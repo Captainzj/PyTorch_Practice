{
 "cells": [
  {
   "cell_type": "markdown",
   "metadata": {},
   "source": [
    "运行环境：\n",
    "python              3.6\n",
    "torch               0.4.1\n",
    "torchvision         0.2.1"
   ]
  },
  {
   "cell_type": "code",
   "execution_count": 1,
   "metadata": {},
   "outputs": [],
   "source": [
    "## 6.1.1 Tensor的数据类型"
   ]
  },
  {
   "cell_type": "code",
   "execution_count": 2,
   "metadata": {},
   "outputs": [
    {
     "name": "stdout",
     "output_type": "stream",
     "text": [
      "tensor([[ 0.0000e+00,  0.0000e+00,  9.2070e-29],\n",
      "        [-1.5846e+29,  4.2981e+21,  6.3828e+28]])\n",
      "tensor([2., 3., 4., 5.])\n"
     ]
    }
   ],
   "source": [
    "import torch\n",
    "# torch.FloatTensor:用于生成数据类型为浮点型的Tensor\n",
    "a = torch.FloatTensor(2,3)  # 参数：维度值\n",
    "b = torch.FloatTensor([2,3,4,5]) # 参数：列表\n",
    "print(a)\n",
    "print(b)"
   ]
  },
  {
   "cell_type": "code",
   "execution_count": 3,
   "metadata": {},
   "outputs": [
    {
     "name": "stdout",
     "output_type": "stream",
     "text": [
      "tensor([[          0,           0,   283710376],\n",
      "        [-1610612736,   245891074,           1]], dtype=torch.int32)\n",
      "tensor([2, 3, 4, 5], dtype=torch.int32)\n"
     ]
    }
   ],
   "source": [
    "import torch\n",
    "# torch.IntTensor:用于生成数据类型为整型的Tensor\n",
    "a = torch.IntTensor(2,3) # 参数：维度值\n",
    "b = torch.IntTensor([2,3,4,5]) # 参数：列表\n",
    "print(a)\n",
    "print(b)"
   ]
  },
  {
   "cell_type": "code",
   "execution_count": 4,
   "metadata": {},
   "outputs": [
    {
     "name": "stdout",
     "output_type": "stream",
     "text": [
      "tensor([[0.6302, 0.9297, 0.0518],\n",
      "        [0.4095, 0.7822, 0.5054]])\n"
     ]
    }
   ],
   "source": [
    "import torch\n",
    "# torch.rand:随机生成的浮点数据在0~1区间均匀分布\n",
    "a = torch.rand(2,3)  \n",
    "print(a)"
   ]
  },
  {
   "cell_type": "code",
   "execution_count": 5,
   "metadata": {},
   "outputs": [
    {
     "name": "stdout",
     "output_type": "stream",
     "text": [
      "tensor([[-0.7373, -0.3723, -0.4248],\n",
      "        [ 0.0408, -1.4669,  0.1767]])\n"
     ]
    }
   ],
   "source": [
    "import torch\n",
    "# torch.randn: 随机生成的浮点数的取值满足均值为0、方差为1的正太分布\n",
    "a = torch.randn(2,3)\n",
    "print(a)"
   ]
  },
  {
   "cell_type": "code",
   "execution_count": 6,
   "metadata": {},
   "outputs": [
    {
     "name": "stdout",
     "output_type": "stream",
     "text": [
      "tensor([ 1,  2,  3,  4,  5,  6,  7,  8,  9, 10, 11, 12, 13, 14, 15, 16, 17, 18,\n",
      "        19])\n"
     ]
    }
   ],
   "source": [
    "import torch\n",
    "a = torch.arange(1,20,1) #[start,step,end)\n",
    "print(a)"
   ]
  },
  {
   "cell_type": "code",
   "execution_count": 7,
   "metadata": {},
   "outputs": [
    {
     "name": "stdout",
     "output_type": "stream",
     "text": [
      "tensor([[0., 0., 0.],\n",
      "        [0., 0., 0.]])\n"
     ]
    }
   ],
   "source": [
    "import torch\n",
    "a = torch.zeros(2,3)\n",
    "print(a)"
   ]
  },
  {
   "cell_type": "markdown",
   "metadata": {},
   "source": [
    "## 6.1.2 Tensor的运算"
   ]
  },
  {
   "cell_type": "code",
   "execution_count": 8,
   "metadata": {},
   "outputs": [
    {
     "name": "stdout",
     "output_type": "stream",
     "text": [
      "tensor([[-0.7441, -0.4257,  2.0181],\n",
      "        [-0.9058, -0.9558,  2.4911]])\n",
      "tensor([[0.7441, 0.4257, 2.0181],\n",
      "        [0.9058, 0.9558, 2.4911]])\n"
     ]
    }
   ],
   "source": [
    "import torch\n",
    "a = torch.randn(2,3)\n",
    "print(a)\n",
    "\n",
    "b = torch.abs(a)\n",
    "print(b)"
   ]
  },
  {
   "cell_type": "code",
   "execution_count": 9,
   "metadata": {},
   "outputs": [
    {
     "name": "stdout",
     "output_type": "stream",
     "text": [
      "tensor([[-1.4264, -1.8632,  1.7996],\n",
      "        [-0.8573, -0.3676, -1.0642]])\n",
      "tensor([[-0.0947, -1.0489, -0.0218],\n",
      "        [ 0.2578,  1.7863, -0.5491]])\n",
      "tensor([[-1.5210, -2.9121,  1.7779],\n",
      "        [-0.5995,  1.4187, -1.6133]])\n",
      "tensor([[ 0.2704,  0.1071,  1.4802],\n",
      "        [-0.8565, -0.3317, -0.8125]])\n",
      "tensor([[10.2704, 10.1071, 11.4802],\n",
      "        [ 9.1435,  9.6683,  9.1875]])\n"
     ]
    }
   ],
   "source": [
    "import torch\n",
    "a = torch.randn(2,3)\n",
    "print(a)\n",
    "\n",
    "b = torch.randn(2,3)\n",
    "print(b)\n",
    "\n",
    "c = torch.add(a,b)\n",
    "print(c)\n",
    "\n",
    "d = torch.randn(2,3)\n",
    "print(d)\n",
    "\n",
    "e = torch.add(d,10)\n",
    "print(e)"
   ]
  },
  {
   "cell_type": "code",
   "execution_count": 10,
   "metadata": {},
   "outputs": [
    {
     "name": "stdout",
     "output_type": "stream",
     "text": [
      "tensor([[ 1.6828, -0.8255,  0.4306],\n",
      "        [ 0.0847, -0.3267, -0.8183]])\n",
      "tensor([[ 0.1000, -0.1000,  0.1000],\n",
      "        [ 0.0847, -0.1000, -0.1000]])\n"
     ]
    }
   ],
   "source": [
    "import torch\n",
    "a = torch.randn(2,3)\n",
    "print(a)\n",
    " \n",
    "b = torch.clamp(a, -0.1, 0.1)   # 裁剪\n",
    "print(b)"
   ]
  },
  {
   "cell_type": "code",
   "execution_count": 11,
   "metadata": {},
   "outputs": [
    {
     "name": "stdout",
     "output_type": "stream",
     "text": [
      "tensor([[-0.4731,  1.2993,  0.6351],\n",
      "        [-0.6879,  1.7263, -1.0909]])\n",
      "tensor([[ 0.1953, -1.7439,  0.3514],\n",
      "        [-1.6562, -0.6729, -0.6220]])\n",
      "tensor([[-2.4226, -0.7451,  1.8073],\n",
      "        [ 0.4153, -2.5655,  1.7540]])\n",
      "tensor([[ 1.1907, -0.0283,  1.8689],\n",
      "        [-0.1884,  1.4081,  0.2591]])\n",
      "tensor([[ 0.1191, -0.0028,  0.1869],\n",
      "        [-0.0188,  0.1408,  0.0259]])\n"
     ]
    }
   ],
   "source": [
    "import torch\n",
    "a = torch.randn(2,3)\n",
    "print(a)\n",
    "\n",
    "b = torch.randn(2,3)\n",
    "print(b)\n",
    "\n",
    "c = torch.div(a,b)  \n",
    "print(c)\n",
    "\n",
    "d = torch.randn(2,3)\n",
    "print(d)\n",
    "\n",
    "e = torch.div(d,10)\n",
    "print(e)"
   ]
  },
  {
   "cell_type": "code",
   "execution_count": 12,
   "metadata": {},
   "outputs": [
    {
     "name": "stdout",
     "output_type": "stream",
     "text": [
      "tensor([[ 0.8339,  0.0305, -0.8853],\n",
      "        [ 1.4199,  2.1894, -0.7583]])\n",
      "tensor([[-1.6293,  0.1275, -0.3693],\n",
      "        [ 0.5709,  0.2411, -0.0157]])\n",
      "tensor([[-1.3587,  0.0039,  0.3270],\n",
      "        [ 0.8107,  0.5279,  0.0119]])\n",
      "tensor([[ 0.0512,  0.1854, -0.5609],\n",
      "        [ 0.1652,  0.5285,  0.4794]])\n",
      "tensor([[ 0.5125,  1.8544, -5.6094],\n",
      "        [ 1.6519,  5.2851,  4.7944]])\n"
     ]
    }
   ],
   "source": [
    "import torch\n",
    "a = torch.randn(2,3)\n",
    "print(a)\n",
    "\n",
    "b = torch.randn(2,3)\n",
    "print(b)\n",
    "\n",
    "c = torch.mul(a,b)\n",
    "print(c)\n",
    "\n",
    "d = torch.randn(2,3)\n",
    "print(d)\n",
    "\n",
    "e = torch.mul(d,10)\n",
    "print(e)"
   ]
  },
  {
   "cell_type": "code",
   "execution_count": 13,
   "metadata": {},
   "outputs": [
    {
     "name": "stdout",
     "output_type": "stream",
     "text": [
      "tensor([[-0.0143,  0.3575,  1.3603],\n",
      "        [-0.8925, -1.7116,  0.0544]])\n",
      "tensor([[0.0002, 0.1278, 1.8503],\n",
      "        [0.7965, 2.9297, 0.0030]])\n"
     ]
    }
   ],
   "source": [
    "import torch\n",
    "a = torch.randn(2,3)\n",
    "print(a)\n",
    "\n",
    "b = torch.pow(a, 2) # 乘方\n",
    "print(b)"
   ]
  },
  {
   "cell_type": "code",
   "execution_count": 14,
   "metadata": {},
   "outputs": [
    {
     "name": "stdout",
     "output_type": "stream",
     "text": [
      "tensor([[-0.5551, -0.8693, -1.0027],\n",
      "        [-0.9902,  1.0206,  0.6531]])\n",
      "tensor([[-1.8841,  1.1860],\n",
      "        [-0.1898,  2.3994],\n",
      "        [ 1.4658, -1.4973]])\n",
      "tensor([[-0.2590, -1.2428],\n",
      "        [ 2.6293,  0.2966]])\n"
     ]
    }
   ],
   "source": [
    "import torch\n",
    "a = torch.randn(2,3)\n",
    "print(a)\n",
    "\n",
    "b = torch.randn(3, 2)\n",
    "print(b)\n",
    "c = torch.mm(a, b) #矩阵乘法\n",
    "print(c)"
   ]
  },
  {
   "cell_type": "code",
   "execution_count": 15,
   "metadata": {},
   "outputs": [
    {
     "name": "stdout",
     "output_type": "stream",
     "text": [
      "tensor([[-0.4150, -0.1400, -0.4785],\n",
      "        [ 0.4184, -0.2565,  0.0634]])\n",
      "tensor([ 1.6236, -2.1173,  2.4018])\n",
      "tensor([-1.5266,  1.3746])\n"
     ]
    }
   ],
   "source": [
    "import torch\n",
    "a = torch.randn(2,3)\n",
    "print(a)\n",
    "\n",
    "b = torch.randn(3)\n",
    "print(b)\n",
    "\n",
    "c = torch.mv(a, b)  # 矩阵*向量\n",
    "print(c)"
   ]
  },
  {
   "cell_type": "markdown",
   "metadata": {},
   "source": [
    "## 6.1.3 搭建一个简易神经网络\n",
    "使用前向传播和后向传播实现了对这个模型的训练和对权重参数的优化"
   ]
  },
  {
   "cell_type": "code",
   "execution_count": 16,
   "metadata": {},
   "outputs": [
    {
     "name": "stdout",
     "output_type": "stream",
     "text": [
      "Epoch:0, Loss:75053984.0000\n",
      "Epoch:1, Loss:57412708.0000\n",
      "Epoch:2, Loss:45503956.0000\n",
      "Epoch:3, Loss:37028808.0000\n",
      "Epoch:4, Loss:30875136.0000\n",
      "Epoch:5, Loss:26159328.0000\n",
      "Epoch:6, Loss:22446068.0000\n",
      "Epoch:7, Loss:19466286.0000\n",
      "Epoch:8, Loss:17085500.0000\n",
      "Epoch:9, Loss:15131197.0000\n",
      "Epoch:10, Loss:13506137.0000\n",
      "Epoch:11, Loss:12142673.0000\n",
      "Epoch:12, Loss:10983839.0000\n",
      "Epoch:13, Loss:9988542.0000\n",
      "Epoch:14, Loss:9131620.0000\n",
      "Epoch:15, Loss:8391284.0000\n",
      "Epoch:16, Loss:7744724.0000\n",
      "Epoch:17, Loss:7173821.5000\n",
      "Epoch:18, Loss:6665968.5000\n",
      "Epoch:19, Loss:6212915.5000\n"
     ]
    }
   ],
   "source": [
    "import torch\n",
    "batch_n = 100 # batch_n是在一个批次中输入数据的数量\n",
    "hidden_layer = 100 # hidden_layer定义经过隐藏层后保留的数据特征的个数\n",
    "input_data = 1000 # 输入数据包含的数据特征有input_data个\n",
    "output_data = 10 # 输出out_put个分类结果值\n",
    "\n",
    "# [100,1000] --[1000,100]->> [100,100] --[100,10]->> [100,10]\n",
    "x = torch.randn(batch_n, input_data) # x: 100*1000\n",
    "y = torch.randn(batch_n, output_data) # y: 100*10\n",
    "\n",
    "w1 = torch.randn(input_data, hidden_layer) # w1: 1000*100\n",
    "w2 = torch.randn(hidden_layer, output_data) # w2:100*10\n",
    "\n",
    "epoch_n = 20   # 训练次数\n",
    "learning_rate = 1e-6  # 学习率\n",
    "\n",
    "for epoch in range(epoch_n):\n",
    "    h1 = x.mm(w1) #100*100  \n",
    "    h1 = h1.clamp(min = 0)  # ReLU activation Function\n",
    "    y_pred = h1.mm(w2) #100*10  前向传播的预测结果\n",
    "    \n",
    "    loss = (y_pred - y).pow(2).sum()   # 均方误差函数计算loss\n",
    "    print(\"Epoch:{}, Loss:{:.4f}\".format(epoch,loss))  # 可由输出观察到 Loss值逐渐减小\n",
    "    \n",
    "    '''\n",
    "    链式求导得w1、w2的梯度 grad_w1、grad_w2\n",
    "    '''\n",
    "    grad_y_pred = 2*(y_pred - y) # 100*10\n",
    "    grad_w2 = h1.t().mm(grad_y_pred) # 100*10\n",
    "    \n",
    "    grad_h = grad_y_pred.clone() # 100*10\n",
    "    grad_h = grad_h.mm(w2.t()) # 100*100 = 100*10 × 10*100\n",
    "    grad_h.clamp_(min=0) \n",
    "    \n",
    "    grad_w1 = x.t().mm(grad_h) # 1000*10 = 1000*100 × 100*10\n",
    "    w1 -= learning_rate*grad_w1 # 1000*10\n",
    "w2 -= learning_rate*grad_w2 # 100*10"
   ]
  },
  {
   "cell_type": "markdown",
   "metadata": {},
   "source": [
    "## 6.2.1 torch.autograd和Variable\n",
    "- torch.autograd包可以使模型参数`自动计算`在优化过程中需要用到的梯度值，降低了实现后向传播代码的复杂度"
   ]
  },
  {
   "cell_type": "code",
   "execution_count": 17,
   "metadata": {},
   "outputs": [
    {
     "name": "stdout",
     "output_type": "stream",
     "text": [
      "Epoch:0, Loss:41120620.0000\n",
      "Epoch:1, Loss:72134664.0000\n",
      "Epoch:2, Loss:311747168.0000\n",
      "Epoch:3, Loss:944317568.0000\n",
      "Epoch:4, Loss:167491360.0000\n",
      "Epoch:5, Loss:26751306.0000\n",
      "Epoch:6, Loss:15471005.0000\n",
      "Epoch:7, Loss:10613440.0000\n",
      "Epoch:8, Loss:7897940.0000\n",
      "Epoch:9, Loss:6176373.5000\n",
      "Epoch:10, Loss:4998452.0000\n",
      "Epoch:11, Loss:4155680.0000\n",
      "Epoch:12, Loss:3526302.5000\n",
      "Epoch:13, Loss:3040388.2500\n",
      "Epoch:14, Loss:2655105.2500\n",
      "Epoch:15, Loss:2342884.2500\n",
      "Epoch:16, Loss:2085955.0000\n",
      "Epoch:17, Loss:1870547.5000\n",
      "Epoch:18, Loss:1687957.1250\n",
      "Epoch:19, Loss:1531513.3750\n"
     ]
    }
   ],
   "source": [
    "import torch\n",
    "from torch.autograd import Variable\n",
    "batch_n = 100\n",
    "hidden_layer = 100\n",
    "input_data = 1000\n",
    "output_data = 10\n",
    "\n",
    "x = Variable(torch.randn(batch_n, input_data), requires_grad = False)\n",
    "y = Variable(torch.randn(batch_n, output_data), requires_grad = False)\n",
    "\n",
    "w1 = Variable(torch.randn(input_data, hidden_layer), requires_grad = True)\n",
    "w2 = Variable(torch.randn(hidden_layer, output_data), requires_grad = True)\n",
    "\n",
    "epoch_n = 20\n",
    "learning_rate = 1e-6\n",
    "\n",
    "for epoch in range(epoch_n):\n",
    "    y_pred = x.mm(w1).clamp(min = 0).mm(w2)\n",
    "    loss = (y_pred - y).pow(2).sum()\n",
    "    print(\"Epoch:{}, Loss:{:.4f}\".format(epoch,loss))\n",
    "    \n",
    "    loss.backward()  #让模型根据计算图自动计算每个节点的梯度值并根据需求进行保留\n",
    "    \n",
    "    w1.data -= learning_rate*w1.grad.data  \n",
    "    w2.data -= learning_rate*w2.grad.data\n",
    "    \n",
    "    w1.grad.data.zero_()  # 置零\n",
    "    w2.grad.data.zero_()  # 若不置零，则计算的梯度值会被一直累加"
   ]
  },
  {
   "cell_type": "markdown",
   "metadata": {},
   "source": [
    "## 6.2.2 自定义传播函数"
   ]
  },
  {
   "cell_type": "code",
   "execution_count": 18,
   "metadata": {},
   "outputs": [
    {
     "name": "stdout",
     "output_type": "stream",
     "text": [
      "Epoch:0, Loss:36254352.0000\n",
      "Epoch:1, Loss:34979972.0000\n",
      "Epoch:2, Loss:34895552.0000\n",
      "Epoch:3, Loss:30237686.0000\n",
      "Epoch:4, Loss:21398412.0000\n",
      "Epoch:5, Loss:12290640.0000\n",
      "Epoch:6, Loss:6378899.5000\n",
      "Epoch:7, Loss:3365562.7500\n",
      "Epoch:8, Loss:1996945.7500\n",
      "Epoch:9, Loss:1354266.5000\n",
      "Epoch:10, Loss:1018180.8125\n",
      "Epoch:11, Loss:814492.2500\n",
      "Epoch:12, Loss:674306.1250\n",
      "Epoch:13, Loss:568980.6250\n",
      "Epoch:14, Loss:485897.6875\n",
      "Epoch:15, Loss:418412.8438\n",
      "Epoch:16, Loss:362563.5938\n",
      "Epoch:17, Loss:315860.3438\n",
      "Epoch:18, Loss:276484.2812\n",
      "Epoch:19, Loss:243105.0625\n",
      "Epoch:20, Loss:214615.3281\n",
      "Epoch:21, Loss:190178.6719\n",
      "Epoch:22, Loss:169150.8750\n",
      "Epoch:23, Loss:150961.2344\n",
      "Epoch:24, Loss:135153.0312\n",
      "Epoch:25, Loss:121354.5938\n",
      "Epoch:26, Loss:109286.4922\n",
      "Epoch:27, Loss:98667.2969\n",
      "Epoch:28, Loss:89288.0156\n",
      "Epoch:29, Loss:80978.7500\n"
     ]
    }
   ],
   "source": [
    "import torch\n",
    "from torch.autograd import Variable\n",
    "batch_n = 64\n",
    "hidden_layer = 100\n",
    "input_data = 1000\n",
    "output_data = 10\n",
    "\n",
    "class Model(torch.nn.Module):\n",
    "\n",
    "    def __init__(self):\n",
    "        super(Model, self).__init__()\n",
    "    \n",
    "    def forward(self, input, w1, w2):\n",
    "        x = torch.mm(input, w1)\n",
    "        x = torch.clamp(x, min = 0)\n",
    "        x =torch.mm(x, w2)\n",
    "        return x\n",
    "    \n",
    "    def backward(self):\n",
    "        pass\n",
    "    \n",
    "model = Model()\n",
    "\n",
    "\n",
    "x = Variable(torch.randn(batch_n, input_data), requires_grad = False)\n",
    "y = Variable(torch.randn(batch_n, output_data), requires_grad = False)\n",
    "\n",
    "w1 = Variable(torch.randn(input_data, hidden_layer), requires_grad = True)\n",
    "w2 = Variable(torch.randn(hidden_layer, output_data) ,requires_grad = True)\n",
    "\n",
    "epoch_n = 30\n",
    "learning_rate = 1e-6\n",
    "\n",
    "for epoch in range(epoch_n):\n",
    "    y_pred = model(x, w1, w2)\n",
    "    \n",
    "    loss = (y_pred - y).pow(2).sum()\n",
    "    print(\"Epoch:{}, Loss:{:.4f}\".format(epoch,loss))\n",
    "    loss.backward()\n",
    "    \n",
    "    w1.data -= learning_rate * w1.grad.data\n",
    "    w2.data -= learning_rate * w2.grad.data\n",
    "    \n",
    "    w1.grad.data.zero_()\n",
    "    w2.grad.data.zero_()"
   ]
  },
  {
   "cell_type": "markdown",
   "metadata": {},
   "source": [
    "## 6.3.1 PyTorch之torch.nn"
   ]
  },
  {
   "cell_type": "code",
   "execution_count": 19,
   "metadata": {},
   "outputs": [
    {
     "name": "stdout",
     "output_type": "stream",
     "text": [
      "Sequential(\n",
      "  (0): Linear(in_features=1000, out_features=100, bias=True)\n",
      "  (1): ReLU()\n",
      "  (2): Linear(in_features=100, out_features=10, bias=True)\n",
      ")\n"
     ]
    }
   ],
   "source": [
    "hidden_layer = 100\n",
    "input_data = 1000\n",
    "output_data = 10\n",
    "models = torch.nn.Sequential(  # 序列容器\n",
    "torch.nn.Linear(input_data, hidden_layer),  # 从输入层到隐藏层的线性变换\n",
    "torch.nn.ReLU(),  # 激活函数\n",
    "torch.nn.Linear(hidden_layer, output_data) # 从隐藏层到输出层的线性变换\n",
    ")\n",
    "print(models)"
   ]
  },
  {
   "cell_type": "code",
   "execution_count": 20,
   "metadata": {},
   "outputs": [
    {
     "name": "stdout",
     "output_type": "stream",
     "text": [
      "Sequential(\n",
      "  (Line1): Linear(in_features=1000, out_features=100, bias=True)\n",
      "  (Relu1): ReLU()\n",
      "  (Line2): Linear(in_features=100, out_features=10, bias=True)\n",
      ")\n"
     ]
    }
   ],
   "source": [
    "hidden_layer = 100\n",
    "input_data = 1000\n",
    "output_data = 10\n",
    "from collections import OrderedDict  # 有序字典\n",
    "models = torch.nn.Sequential(OrderedDict([  \n",
    "(\"Line1\",torch.nn.Linear(input_data, hidden_layer)),\n",
    "(\"Relu1\",torch.nn.ReLU()),\n",
    "(\"Line2\",torch.nn.Linear(hidden_layer, output_data))])\n",
    ")\n",
    "print(models)"
   ]
  },
  {
   "cell_type": "code",
   "execution_count": 21,
   "metadata": {},
   "outputs": [
    {
     "name": "stdout",
     "output_type": "stream",
     "text": [
      "tensor(1.9899)\n"
     ]
    }
   ],
   "source": [
    "import torch\n",
    "from torch.autograd import Variable\n",
    "loss_f = torch.nn.MSELoss()  #定义loss_f # 均方误差函数类MSELoss计算损失值\n",
    "x = Variable(torch.randn(100,100))\n",
    "y = Variable(torch.randn(100,100))\n",
    "loss = loss_f(x,y) #x、yd的维度需要一致\n",
    "print(loss.data)"
   ]
  },
  {
   "cell_type": "code",
   "execution_count": 22,
   "metadata": {},
   "outputs": [
    {
     "name": "stdout",
     "output_type": "stream",
     "text": [
      "tensor(1.1358)\n"
     ]
    }
   ],
   "source": [
    "import torch\n",
    "from torch.autograd import Variable\n",
    "loss_f = torch.nn.L1Loss()  # 平均绝对误差函数\n",
    "x = Variable(torch.randn(100,100))\n",
    "y = Variable(torch.randn(100,100))\n",
    "loss = loss_f(x,y)\n",
    "print(loss.data)"
   ]
  },
  {
   "cell_type": "code",
   "execution_count": 23,
   "metadata": {},
   "outputs": [
    {
     "name": "stdout",
     "output_type": "stream",
     "text": [
      "tensor(1.6661)\n"
     ]
    }
   ],
   "source": [
    "import torch\n",
    "from torch.autograd import Variable\n",
    "loss_f = torch.nn.CrossEntropyLoss()  # 交叉熵\n",
    "x = Variable(torch.randn(3, 5))\n",
    "y = Variable(torch.LongTensor(3).random_(5))\n",
    "loss = loss_f(x,y)\n",
    "print(loss.data)"
   ]
  },
  {
   "cell_type": "code",
   "execution_count": 24,
   "metadata": {},
   "outputs": [
    {
     "name": "stdout",
     "output_type": "stream",
     "text": [
      "Epoch:0, Loss:1.0786\n",
      "Epoch:1000, Loss:0.9990\n",
      "Epoch:2000, Loss:0.9299\n",
      "Epoch:3000, Loss:0.8691\n",
      "Epoch:4000, Loss:0.8151\n",
      "Epoch:5000, Loss:0.7665\n",
      "Epoch:6000, Loss:0.7222\n",
      "Epoch:7000, Loss:0.6814\n",
      "Epoch:8000, Loss:0.6431\n",
      "Epoch:9000, Loss:0.6072\n"
     ]
    }
   ],
   "source": [
    "import torch\n",
    "from torch.autograd import Variable\n",
    "batch_n = 100\n",
    "hidden_layer = 100\n",
    "input_data = 1000\n",
    "output_data = 10\n",
    "x = Variable(torch.randn(batch_n, input_data), requires_grad = False)\n",
    "y = Variable(torch.randn(batch_n, output_data), requires_grad = False)\n",
    "\n",
    "models = torch.nn.Sequential(\n",
    "torch.nn.Linear(input_data, hidden_layer),\n",
    "torch.nn.ReLU(),\n",
    "torch.nn.Linear(hidden_layer, output_data)\n",
    ")\n",
    "\n",
    "epoch_n = 10000\n",
    "learning_rate = 1e-4\n",
    "loss_fn = torch.nn.MSELoss()\n",
    "\n",
    "for epoch in range(epoch_n):\n",
    "    y_pred = models(x)\n",
    "    loss = loss_fn(y_pred, y)\n",
    "    if epoch%1000 == 0:\n",
    "        print(\"Epoch:{}, Loss:{:.4f}\".format(epoch,loss.data))\n",
    "    models.zero_grad()\n",
    "    loss.backward()\n",
    "    for param in models.parameters():  # 遍历模型中的全部参数w1、w2\n",
    "        param.data -= param.grad.data*learning_rate"
   ]
  },
  {
   "cell_type": "markdown",
   "metadata": {},
   "source": [
    "## 6.3.2 PyTorch之torch.optim"
   ]
  },
  {
   "cell_type": "code",
   "execution_count": 25,
   "metadata": {
    "scrolled": true
   },
   "outputs": [
    {
     "name": "stdout",
     "output_type": "stream",
     "text": [
      "Epoch:0, Loss:1.0804\n",
      "Epoch:1000, Loss:0.0000\n",
      "Epoch:2000, Loss:0.0000\n",
      "Epoch:3000, Loss:0.0000\n",
      "Epoch:4000, Loss:0.0000\n",
      "Epoch:5000, Loss:0.0000\n",
      "Epoch:6000, Loss:0.0000\n",
      "Epoch:7000, Loss:0.0000\n",
      "Epoch:8000, Loss:0.0000\n",
      "Epoch:9000, Loss:0.0000\n"
     ]
    }
   ],
   "source": [
    "import torch\n",
    "from torch.autograd import Variable\n",
    "batch_n = 100\n",
    "hidden_layer = 100\n",
    "input_data = 1000\n",
    "output_data = 10\n",
    "\n",
    "x = Variable(torch.randn(batch_n, input_data), requires_grad = False)\n",
    "y = Variable(torch.randn(batch_n, output_data), requires_grad=False)\n",
    "\n",
    "models = torch.nn.Sequential(\n",
    "torch.nn.Linear(input_data, hidden_layer),\n",
    "torch.nn.ReLU(),\n",
    "torch.nn.Linear(hidden_layer, output_data)\n",
    ")\n",
    "\n",
    "epoch_n = 10000\n",
    "learning_rate = 1e-4\n",
    "loss_fn = torch.nn.MSELoss()\n",
    "\n",
    "optimzer = torch.optim.Adam(models.parameters(), lr = learning_rate)\n",
    "\n",
    "for epoch in range(epoch_n):\n",
    "    y_pred = models(x)\n",
    "    loss = loss_fn(y_pred, y)\n",
    "    if epoch%1000 == 0:\n",
    "        print(\"Epoch:{}, Loss:{:.4f}\".format(epoch,loss.data))\n",
    "    optimzer.zero_grad()\n",
    "    \n",
    "    loss.backward()\n",
    "    optimzer.step()"
   ]
  },
  {
   "cell_type": "markdown",
   "metadata": {},
   "source": [
    "## 6.4.1 torch和torchvision"
   ]
  },
  {
   "cell_type": "code",
   "execution_count": 26,
   "metadata": {},
   "outputs": [],
   "source": [
    "import torch\n",
    "import torchvision\n",
    "from torchvision import datasets, transforms  # torchvision包的主要功能是实现数据的处理、导入和预览\n",
    "from torch.autograd import Variable\n",
    "import matplotlib.pyplot as plt\n",
    "\n",
    "%matplotlib inline"
   ]
  },
  {
   "cell_type": "markdown",
   "metadata": {},
   "source": [
    "torchvision.transforms 指定导入数据集时需要对数据进行变换操作类型  \n",
    "例如，数据增强（对图片大小进行缩放、对图片进行水平或者垂直翻转...）可生成新的数据集\n",
    "详见 [Detail](https://captainzj.github.io/2018/12/15/PyTorch-Package/#torchvision-transforms)"
   ]
  },
  {
   "cell_type": "code",
   "execution_count": 27,
   "metadata": {},
   "outputs": [],
   "source": [
    "transform=transforms.Compose([transforms.ToTensor(),\n",
    "                              transforms.Normalize(mean=[0.5,0.5,0.5],std=[0.5,0.5,0.5])]) \n",
    "\n",
    "data_train = datasets.MNIST(root = \"./data/\",  # .表示保存在当前文件夹的路径下\n",
    "                            transform=transform,\n",
    "                            train = True,   # 载入训练集\n",
    "                            download = True)\n",
    "\n",
    "data_test = datasets.MNIST(root=\"./data/\",\n",
    "                           transform=transform,\n",
    "                           train = False   # 载入测试集\n",
    "                          )"
   ]
  },
  {
   "cell_type": "code",
   "execution_count": 28,
   "metadata": {},
   "outputs": [],
   "source": [
    "data_loader_train = torch.utils.data.DataLoader(dataset=data_train,\n",
    "                                                batch_size = 64,\n",
    "                                                shuffle = True,\n",
    "                                               )\n",
    "\n",
    "data_loader_test = torch.utils.data.DataLoader(dataset=data_test,\n",
    "                                               batch_size = 64,\n",
    "                                               shuffle = True)"
   ]
  },
  {
   "cell_type": "code",
   "execution_count": 29,
   "metadata": {},
   "outputs": [
    {
     "name": "stdout",
     "output_type": "stream",
     "text": [
      "[tensor(4), tensor(2), tensor(2), tensor(9), tensor(2), tensor(3), tensor(5), tensor(7), tensor(1), tensor(1), tensor(8), tensor(5), tensor(6), tensor(7), tensor(0), tensor(1), tensor(8), tensor(5), tensor(4), tensor(0), tensor(3), tensor(8), tensor(7), tensor(0), tensor(7), tensor(9), tensor(2), tensor(5), tensor(8), tensor(2), tensor(4), tensor(3), tensor(2), tensor(0), tensor(3), tensor(5), tensor(8), tensor(4), tensor(5), tensor(5), tensor(8), tensor(9), tensor(7), tensor(6), tensor(8), tensor(7), tensor(7), tensor(4), tensor(1), tensor(0), tensor(4), tensor(5), tensor(9), tensor(9), tensor(2), tensor(7), tensor(3), tensor(9), tensor(1), tensor(6), tensor(1), tensor(2), tensor(4), tensor(1)]\n"
     ]
    },
    {
     "data": {
      "text/plain": [
       "<matplotlib.image.AxesImage at 0x11a4227b8>"
      ]
     },
     "execution_count": 29,
     "metadata": {},
     "output_type": "execute_result"
    },
    {
     "data": {
      "image/png": "[encoded data removed]",
      "text/plain": [
       "<Figure size 432x288 with 1 Axes>"
      ]
     },
     "metadata": {
      "needs_background": "light"
     },
     "output_type": "display_data"
    }
   ],
   "source": [
    "images, labels = next(iter(data_loader_train))\n",
    "\n",
    "img = torchvision.utils.make_grid(images)   # (batch_size,channel,height,weight) ->> (channel,height,weight)\n",
    "img = img.numpy().transpose(1,2,0)  # 完成数据类型的转换和数据维度的交换  (channel,height,weight) ->> (height, weight, channel)\n",
    "\n",
    "std = [0.5,0.5,0.5]\n",
    "mean = [0.5,0.5,0.5]\n",
    "img = img*std+mean\n",
    "print([labels[i] for i in range(64)])\n",
    "plt.imshow(img)"
   ]
  },
  {
   "cell_type": "code",
   "execution_count": 30,
   "metadata": {},
   "outputs": [],
   "source": [
    "class Model(torch.nn.Module):\n",
    "    def __init__(self):\n",
    "        super(Model, self).__init__()\n",
    "        self.conv1=torch.nn.Sequential(\n",
    "            torch.nn.Conv2d(1,64,kernel_size=3,stride=1,padding=1),  # 卷积层\n",
    "            torch.nn.ReLU(), \n",
    "            torch.nn.Conv2d(64,128,kernel_size=3,stride=1,padding=1),\n",
    "            torch.nn.ReLU(),\n",
    "            torch.nn.MaxPool2d(stride=2,kernel_size=2))\n",
    "        self.dense=torch.nn.Sequential(\n",
    "            torch.nn.Linear(14*14*128,1024),\n",
    "            torch.nn.ReLU(),\n",
    "            torch.nn.Dropout(p=0.5),\n",
    "            torch.nn.Linear(1024, 10))\n",
    "        \n",
    "    def forward(self, x):\n",
    "        x = self.conv1(x)   # 卷积处理\n",
    "        x = x.view(-1, 14*14*128)  # 对参数实现扁平化，make sure维度匹配\n",
    "        x = self.dense(x) # 全连接层进行分类\n",
    "        return x"
   ]
  },
  {
   "cell_type": "code",
   "execution_count": 31,
   "metadata": {},
   "outputs": [
    {
     "name": "stdout",
     "output_type": "stream",
     "text": [
      "Model(\n",
      "  (conv1): Sequential(\n",
      "    (0): Conv2d(1, 64, kernel_size=(3, 3), stride=(1, 1), padding=(1, 1))\n",
      "    (1): ReLU()\n",
      "    (2): Conv2d(64, 128, kernel_size=(3, 3), stride=(1, 1), padding=(1, 1))\n",
      "    (3): ReLU()\n",
      "    (4): MaxPool2d(kernel_size=2, stride=2, padding=0, dilation=1, ceil_mode=False)\n",
      "  )\n",
      "  (dense): Sequential(\n",
      "    (0): Linear(in_features=25088, out_features=1024, bias=True)\n",
      "    (1): ReLU()\n",
      "    (2): Dropout(p=0.5)\n",
      "    (3): Linear(in_features=1024, out_features=10, bias=True)\n",
      "  )\n",
      ")\n"
     ]
    }
   ],
   "source": [
    "model = Model()\n",
    "cost = torch.nn.CrossEntropyLoss()\n",
    "optimizer = torch.optim.Adam(model.parameters())\n",
    "\n",
    "print(model)"
   ]
  },
  {
   "cell_type": "code",
   "execution_count": null,
   "metadata": {},
   "outputs": [],
   "source": [
    "n_epochs = 5\n",
    "\n",
    "for epoch in range(n_epochs):\n",
    "    running_loss = 0.0\n",
    "    running_correct = 0\n",
    "    print(\"Epoch {}/{}\".format(epoch, n_epochs))\n",
    "    print(\"-\"*10)\n",
    "    \n",
    "    for data in data_loader_train:\n",
    "        print('111')\n",
    "        X_train, y_train = data\n",
    "        X_train, y_train = Variable(X_train), Variable(y_train)\n",
    "        outputs = model(X_train)\n",
    "        _,pred = torch.max(outputs.data, 1)\n",
    "        optimizer.zero_grad()\n",
    "        loss = cost(outputs, y_train)\n",
    "        \n",
    "        loss.backward()\n",
    "        optimizer.step()     \n",
    "        running_loss += loss.data[0]\n",
    "        running_correct += torch.sum(pred == y_train.data)\n",
    "\n",
    "    testing_correct = 0    \n",
    "    for data in data_loader_test:\n",
    "        X_test, y_test = data\n",
    "        X_test, y_test = Variable(X_test), Variable(y_test)\n",
    "        outputs = model(X_test)\n",
    "        _, pred = torch.max(outputs.data, 1)\n",
    "        testing_correct += torch.sum(pred == y_test.data)\n",
    "    print(\"Loss is:{:.4f}, Train Accuracy is:{:.4f}%, Test Accuracy is:{:.4f}\".format(\n",
    "        running_loss/len(data_train),100*running_correct/len(data_train),100*testing_correct/len(data_test)))"
   ]
  },
  {
   "cell_type": "code",
   "execution_count": null,
   "metadata": {},
   "outputs": [],
   "source": [
    "'''\n",
    "选取测试集数据评估模型的准确率\n",
    "'''\n",
    "data_loader_test = torch.utils.data.DataLoader(dataset=data_test,\n",
    "                                               batch_size = 4,\n",
    "                                               shuffle = True)\n",
    "\n",
    "X_test, y_test = next(iter(data_loader_test))\n",
    "inputs = Variable(X_test)\n",
    "pred = model(inputs)\n",
    "_,pred = torch.max(pred, 1)\n",
    "print(\"Predict Label is:\", [ i for i in pred.data])\n",
    "print(\"Real Label is:\",[i for i in y_test])\n",
    "\n",
    "img = torchvision.utils.make_grid(X_test)\n",
    "img = img.numpy().transpose(1,2,0)\n",
    "\n",
    "std = [0.5,0.5,0.5]\n",
    "mean = [0.5,0.5,0.5]\n",
    "img = img*std+mean\n",
    "plt.imshow(img)"
   ]
  },
  {
   "cell_type": "code",
   "execution_count": null,
   "metadata": {},
   "outputs": [],
   "source": []
  }
 ],
 "metadata": {
  "kernelspec": {
   "display_name": "Python 3",
   "language": "python",
   "name": "python3"
  },
  "language_info": {
   "codemirror_mode": {
    "name": "ipython",
    "version": 3
   },
   "file_extension": ".py",
   "mimetype": "text/x-python",
   "name": "python",
   "nbconvert_exporter": "python",
   "pygments_lexer": "ipython3",
   "version": "3.6.3"
  }
 },
 "nbformat": 4,
 "nbformat_minor": 2
}
